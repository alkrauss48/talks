{
 "cells": [
  {
   "cell_type": "markdown",
   "metadata": {
    "slideshow": {
     "slide_type": "slide"
    }
   },
   "source": [
    "# Metaprogramming with Ruby\n",
    "\n",
    "## By Aaron Krauss"
   ]
  },
  {
   "cell_type": "markdown",
   "metadata": {
    "slideshow": {
     "slide_type": "slide"
    }
   },
   "source": [
    "# What is Metaprogramming?"
   ]
  },
  {
   "cell_type": "markdown",
   "metadata": {
    "slideshow": {
     "slide_type": "fragment"
    }
   },
   "source": [
    "Metaprogramming is code that writes code for you."
   ]
  },
  {
   "cell_type": "markdown",
   "metadata": {
    "slideshow": {
     "slide_type": "fragment"
    }
   },
   "source": [
    "But isn't that what code generators do, like the rails gem, or yeoman? Or even bytecode compilers?"
   ]
  },
  {
   "cell_type": "markdown",
   "metadata": {
    "slideshow": {
     "slide_type": "fragment"
    }
   },
   "source": [
    "Yes, but metaprogramming typically refers to something else in **Ruby**"
   ]
  },
  {
   "cell_type": "markdown",
   "metadata": {
    "slideshow": {
     "slide_type": "slide"
    }
   },
   "source": [
    "# Metaprogramming In Ruby"
   ]
  },
  {
   "cell_type": "markdown",
   "metadata": {
    "slideshow": {
     "slide_type": "fragment"
    }
   },
   "source": [
    "Metaprogramming in ruby refers to code that writes code for you **dynamically. At runtime.**"
   ]
  },
  {
   "cell_type": "markdown",
   "metadata": {
    "slideshow": {
     "slide_type": "fragment"
    }
   },
   "source": [
    "There's a reoccuring theme:\n",
    "\n",
    "Metaprogramming is **powerful**. But use it wisely. Uncle Ben said \"With great power comes great responsibility.\""
   ]
  },
  {
   "cell_type": "markdown",
   "metadata": {
    "slideshow": {
     "slide_type": "fragment"
    }
   },
   "source": [
    "He was talking about Metaprogramming."
   ]
  },
  {
   "cell_type": "markdown",
   "metadata": {
    "slideshow": {
     "slide_type": "slide"
    }
   },
   "source": [
    "# Let's Get Started"
   ]
  },
  {
   "cell_type": "markdown",
   "metadata": {
    "slideshow": {
     "slide_type": "slide"
    }
   },
   "source": [
    "You want to create a method that will accept a string and strip everything out except for alphanumeric characters"
   ]
  },
  {
   "cell_type": "code",
   "execution_count": 3,
   "metadata": {
    "collapsed": true,
    "slideshow": {
     "slide_type": "fragment"
    }
   },
   "outputs": [],
   "source": [
    "%%capture\n",
    "%%ruby\n",
    "\n",
    "def to_alphanumeric(s)\n",
    "    s.gsub(/[^\\w\\s]/, '')\n",
    "end\n",
    "\n",
    "puts to_alphanumeric(\"A&^ar$o%n&* (is&*&))) t&*(*he B0&*S**^S)\")"
   ]
  },
  {
   "cell_type": "markdown",
   "metadata": {
    "slideshow": {
     "slide_type": "fragment"
    }
   },
   "source": [
    "But that's not very object oriented"
   ]
  },
  {
   "cell_type": "markdown",
   "metadata": {
    "slideshow": {
     "slide_type": "slide"
    }
   },
   "source": [
    "# Enter: Open Classes"
   ]
  },
  {
   "cell_type": "code",
   "execution_count": 2,
   "metadata": {
    "collapsed": true,
    "slideshow": {
     "slide_type": "fragment"
    }
   },
   "outputs": [],
   "source": [
    "%%capture\n",
    "%%ruby\n",
    "\n",
    "class String\n",
    "    def to_alphanumeric\n",
    "        gsub(/[^\\w\\s]/, '')\n",
    "    end\n",
    "end\n",
    "\n",
    "puts \"A&^ar$o%n&* (is&*&))) t&*(*he B0&*S**^S)\".to_alphanumeric"
   ]
  },
  {
   "cell_type": "markdown",
   "metadata": {
    "slideshow": {
     "slide_type": "fragment"
    }
   },
   "source": [
    "Cool stuff. Nuff said."
   ]
  },
  {
   "cell_type": "markdown",
   "metadata": {
    "slideshow": {
     "slide_type": "slide"
    }
   },
   "source": [
    "# The Problem: Open Classes"
   ]
  },
  {
   "cell_type": "code",
   "execution_count": 3,
   "metadata": {
    "collapsed": true,
    "slideshow": {
     "slide_type": "fragment"
    }
   },
   "outputs": [],
   "source": [
    "%%capture\n",
    "%%ruby\n",
    "\n",
    "class Array\n",
    "    def replace(original, replacement)\n",
    "        self.map {|e| e == original ? replacement : e }\n",
    "    end\n",
    "end\n",
    "\n",
    "puts ['x', 'y', 'z'].replace('x', 'a')"
   ]
  },
  {
   "cell_type": "markdown",
   "metadata": {
    "slideshow": {
     "slide_type": "fragment"
    }
   },
   "source": [
    "It works. Why is this a problem?"
   ]
  },
  {
   "cell_type": "markdown",
   "metadata": {
    "slideshow": {
     "slide_type": "fragment"
    }
   },
   "source": [
    "The  Array#replace method already exists, and it swaps out the entire array with another array that you provide as an arg. We just overwrote that method."
   ]
  },
  {
   "cell_type": "markdown",
   "metadata": {
    "slideshow": {
     "slide_type": "fragment"
    }
   },
   "source": [
    "This process is called **Monkeypatching**. It's not bad by any means, but be sure you know what you're doing."
   ]
  },
  {
   "cell_type": "markdown",
   "metadata": {
    "slideshow": {
     "slide_type": "slide"
    }
   },
   "source": [
    "# Ruby's Object Model"
   ]
  },
  {
   "cell_type": "markdown",
   "metadata": {
    "slideshow": {
     "slide_type": "fragment"
    }
   },
   "source": [
    "![](files/assets/ruby_object_model.png)"
   ]
  },
  {
   "cell_type": "markdown",
   "metadata": {
    "slideshow": {
     "slide_type": "fragment"
    }
   },
   "source": [
    "Key things of note here:\n",
    "    \n",
    "* Instantiated objects have a class of **MyClass** \n",
    "* MyClass has a class of **Class** and is also an object\n",
    "* While MyClass has a class of Class, it inherits from **Object**"
   ]
  },
  {
   "cell_type": "markdown",
   "metadata": {
    "slideshow": {
     "slide_type": "slide"
    }
   },
   "source": [
    "# Ancestors Chain"
   ]
  },
  {
   "cell_type": "markdown",
   "metadata": {
    "slideshow": {
     "slide_type": "fragment"
    }
   },
   "source": [
    "When you call a method, Ruby goes right into the class of the receiver and then up the ancestors chain, until it either finds the method or reaches the end of the chain."
   ]
  },
  {
   "cell_type": "markdown",
   "metadata": {
    "slideshow": {
     "slide_type": "fragment"
    }
   },
   "source": [
    "![](files/assets/ancestor_chain.jpg)"
   ]
  },
  {
   "cell_type": "markdown",
   "metadata": {
    "slideshow": {
     "slide_type": "slide"
    }
   },
   "source": [
    "# Methods"
   ]
  },
  {
   "cell_type": "markdown",
   "metadata": {
    "slideshow": {
     "slide_type": "fragment"
    }
   },
   "source": [
    "In Ruby, you can dynamically create methods and dynamically call methods. And call methods that don't even exist - without throwing an error."
   ]
  },
  {
   "cell_type": "markdown",
   "metadata": {
    "slideshow": {
     "slide_type": "slide"
    }
   },
   "source": [
    "## Methods Part 1: Dynamically Defining Methods"
   ]
  },
  {
   "cell_type": "markdown",
   "metadata": {
    "slideshow": {
     "slide_type": "fragment"
    }
   },
   "source": [
    "Why would you want to dynamically define methods? Maybe to reduce code duplication, or to add cool functionality."
   ]
  },
  {
   "cell_type": "code",
   "execution_count": 52,
   "metadata": {
    "collapsed": true,
    "slideshow": {
     "slide_type": "fragment"
    }
   },
   "outputs": [],
   "source": [
    "%%capture\n",
    "%%ruby\n",
    "\n",
    "class Book < ActiveRecord::Base\n",
    "end\n",
    "\n",
    "b = Book.new\n",
    "b.title"
   ]
  },
  {
   "cell_type": "markdown",
   "metadata": {
    "slideshow": {
     "slide_type": "slide"
    }
   },
   "source": [
    "## Methods Part 1: Dynamically Defining Methods"
   ]
  },
  {
   "cell_type": "code",
   "execution_count": 4,
   "metadata": {
    "collapsed": true,
    "slideshow": {
     "slide_type": "fragment"
    }
   },
   "outputs": [],
   "source": [
    "%%capture\n",
    "%%ruby\n",
    "\n",
    "def foo\n",
    "    puts \"foo was called\"\n",
    "end\n",
    "\n",
    "def baz\n",
    "    puts \"baz was called\"\n",
    "end\n",
    "\n",
    "def bar\n",
    "    puts \"bar was called\"\n",
    "end\n",
    "\n",
    "foo\n",
    "baz\n",
    "bar"
   ]
  },
  {
   "cell_type": "markdown",
   "metadata": {
    "slideshow": {
     "slide_type": "fragment"
    }
   },
   "source": [
    "See the duplication?"
   ]
  },
  {
   "cell_type": "markdown",
   "metadata": {
    "slideshow": {
     "slide_type": "slide"
    }
   },
   "source": [
    "## Methods Part 1: Dynamically Defining Methods"
   ]
  },
  {
   "cell_type": "code",
   "execution_count": 5,
   "metadata": {
    "collapsed": true,
    "slideshow": {
     "slide_type": "fragment"
    }
   },
   "outputs": [],
   "source": [
    "%%capture\n",
    "%%ruby\n",
    "\n",
    "%w(foo baz bar).each do |s|\n",
    "    define_method(s) do\n",
    "        puts \"#{s} was called\"\n",
    "    end\n",
    "end\n",
    "\n",
    "foo\n",
    "baz\n",
    "bar"
   ]
  },
  {
   "cell_type": "markdown",
   "metadata": {
    "slideshow": {
     "slide_type": "fragment"
    }
   },
   "source": [
    "You can see how much code we saved - especially if we were writing real methods. [Real Example](https://github.com/Staplegun-US/intervals_api/blob/master/lib/intervals_api/request_handler.rb)"
   ]
  },
  {
   "cell_type": "markdown",
   "metadata": {
    "slideshow": {
     "slide_type": "fragment"
    }
   },
   "source": [
    "BUT - is it worth the complexity? That's your call"
   ]
  },
  {
   "cell_type": "markdown",
   "metadata": {
    "slideshow": {
     "slide_type": "slide"
    }
   },
   "source": [
    "## Methods Part 2: Dynamically Calling Methods"
   ]
  },
  {
   "cell_type": "code",
   "execution_count": 7,
   "metadata": {
    "collapsed": true,
    "slideshow": {
     "slide_type": "fragment"
    }
   },
   "outputs": [],
   "source": [
    "%%capture\n",
    "%%ruby\n",
    "\n",
    "%w(test1 test2 test3 test4 test5).each do |s|\n",
    "    define_method(s) do\n",
    "        puts \"#{s} was called\"\n",
    "    end\n",
    "end\n",
    "\n",
    "# New Code\n",
    "\n",
    "(1..5).each { |n| send(\"test#{n}\") }"
   ]
  },
  {
   "cell_type": "code",
   "execution_count": 8,
   "metadata": {
    "collapsed": true,
    "slideshow": {
     "slide_type": "slide"
    }
   },
   "outputs": [],
   "source": [
    "%%capture\n",
    "%%ruby\n",
    "\n",
    "class OKCPython\n",
    "    def is_boss?\n",
    "        true\n",
    "    end\n",
    "end\n",
    "\n",
    "# New Code\n",
    "\n",
    "okcpython = OKCPython.new\n",
    "puts okcpython.send(\"is_boss?\")"
   ]
  },
  {
   "cell_type": "markdown",
   "metadata": {
    "slideshow": {
     "slide_type": "fragment"
    }
   },
   "source": [
    "The power here comes when you want to call a method based on some in-scope situation - often times based off of a variable value.\n",
    "\n",
    "**Object#send** allows you to call private functions (as you'll see soon). Use **Object#public_send** if you can."
   ]
  },
  {
   "cell_type": "markdown",
   "metadata": {
    "slideshow": {
     "slide_type": "slide"
    }
   },
   "source": [
    "## Methods Part 3: Ghost Methods"
   ]
  },
  {
   "cell_type": "code",
   "execution_count": 9,
   "metadata": {
    "collapsed": true,
    "slideshow": {
     "slide_type": "fragment"
    }
   },
   "outputs": [],
   "source": [
    "%%capture\n",
    "%%ruby\n",
    "\n",
    "class Book\n",
    "end\n",
    "\n",
    "b = Book.new\n",
    "b.read"
   ]
  },
  {
   "cell_type": "markdown",
   "metadata": {
    "slideshow": {
     "slide_type": "fragment"
    }
   },
   "source": [
    "We get an error. But it doesn't have to be that way"
   ]
  },
  {
   "cell_type": "markdown",
   "metadata": {
    "slideshow": {
     "slide_type": "slide"
    }
   },
   "source": [
    "## Methods Part 3: Ghost Methods"
   ]
  },
  {
   "cell_type": "code",
   "execution_count": 11,
   "metadata": {
    "collapsed": true,
    "slideshow": {
     "slide_type": "fragment"
    }
   },
   "outputs": [],
   "source": [
    "%%capture\n",
    "%%ruby\n",
    "\n",
    "class Book\n",
    "    def method_missing(method, *args, &block)\n",
    "        puts \"You called: #{method}(#{args.join(', ')})\"\n",
    "        puts \"(You also passed it a block)\" if block_given?\n",
    "    end\n",
    "end\n",
    "\n",
    "b = Book.new\n",
    "b.read\n",
    "b.read('a', 'b') { \"foo\" }"
   ]
  },
  {
   "cell_type": "markdown",
   "metadata": {
    "slideshow": {
     "slide_type": "fragment"
    }
   },
   "source": [
    "While this looks really cool, be hesitant to use it unless you have a valid reason."
   ]
  },
  {
   "cell_type": "markdown",
   "metadata": {
    "slideshow": {
     "slide_type": "fragment"
    }
   },
   "source": [
    "1. It takes extra time to hit the method_missing handler because you traverse the Ancestor Chain\n",
    "2. If you're not careful, you'll swallow actual errors uninentionally. User **super** to handle any unintended errors."
   ]
  },
  {
   "cell_type": "markdown",
   "metadata": {
    "slideshow": {
     "slide_type": "slide"
    }
   },
   "source": [
    "# Closures: Scope"
   ]
  },
  {
   "cell_type": "markdown",
   "metadata": {
    "slideshow": {
     "slide_type": "fragment"
    }
   },
   "source": [
    "There are 3 spots in ruby where scope will shift (properly dubbed Scope Gates):\n",
    "    \n",
    "* Class definitions\n",
    "* Module definitions\n",
    "* Methods"
   ]
  },
  {
   "cell_type": "markdown",
   "metadata": {
    "slideshow": {
     "slide_type": "fragment"
    }
   },
   "source": [
    "That makes this impossible:"
   ]
  },
  {
   "cell_type": "code",
   "execution_count": 59,
   "metadata": {
    "collapsed": true,
    "slideshow": {
     "slide_type": "slide"
    }
   },
   "outputs": [],
   "source": [
    "%%capture\n",
    "%%ruby\n",
    "\n",
    "my_var = \"Success\"\n",
    "class MyClass\n",
    "    # We want to print my_var here...\n",
    "    \n",
    "    def my_method\n",
    "        # ..and here\n",
    "    end\n",
    "end"
   ]
  },
  {
   "cell_type": "markdown",
   "metadata": {
    "slideshow": {
     "slide_type": "fragment"
    }
   },
   "source": [
    "But with metaprogramming, we can manipulate scope"
   ]
  },
  {
   "cell_type": "markdown",
   "metadata": {
    "slideshow": {
     "slide_type": "slide"
    }
   },
   "source": [
    "# 2 Ways to Define a Class"
   ]
  },
  {
   "cell_type": "markdown",
   "metadata": {
    "slideshow": {
     "slide_type": "fragment"
    }
   },
   "source": [
    "### The Normal Way - Statically"
   ]
  },
  {
   "cell_type": "code",
   "execution_count": 12,
   "metadata": {
    "collapsed": true,
    "slideshow": {
     "slide_type": "fragment"
    }
   },
   "outputs": [],
   "source": [
    "%%capture\n",
    "%%ruby\n",
    "\n",
    "# the normal way\n",
    "class Book\n",
    "    def title\n",
    "        \"All My Friends Are Dead\"\n",
    "    end\n",
    "end\n",
    "\n",
    "puts Book.new.title"
   ]
  },
  {
   "cell_type": "markdown",
   "metadata": {
    "slideshow": {
     "slide_type": "fragment"
    }
   },
   "source": [
    "### The Different Way - Dynamically"
   ]
  },
  {
   "cell_type": "code",
   "execution_count": 14,
   "metadata": {
    "collapsed": true,
    "slideshow": {
     "slide_type": "fragment"
    }
   },
   "outputs": [],
   "source": [
    "%%capture\n",
    "%%ruby\n",
    "\n",
    "# the dynamic way\n",
    "Book = Class.new do\n",
    "    def foo\n",
    "        \"foo!\"\n",
    "    end\n",
    "    \n",
    "    #Both method declaration types work\n",
    "    \n",
    "    define_method('title') do\n",
    "        \"All My Friends Are Dead\"\n",
    "    end\n",
    "end\n",
    "\n",
    "puts Book.new.foo\n",
    "puts Book.new.title"
   ]
  },
  {
   "cell_type": "markdown",
   "metadata": {
    "slideshow": {
     "slide_type": "fragment"
    }
   },
   "source": [
    "We can define classes this way because all Classes are objects, and have a class of Class"
   ]
  },
  {
   "cell_type": "markdown",
   "metadata": {
    "slideshow": {
     "slide_type": "slide"
    }
   },
   "source": [
    "# Back to Scope"
   ]
  },
  {
   "cell_type": "code",
   "execution_count": 19,
   "metadata": {
    "collapsed": true,
    "slideshow": {
     "slide_type": "fragment"
    }
   },
   "outputs": [],
   "source": [
    "%%capture\n",
    "%%ruby\n",
    "\n",
    "my_var = \"Success\"\n",
    "\n",
    "MyClass = Class.new do\n",
    "    \"#{my_var} in the class definition\"\n",
    "    \n",
    "    # Have to use dynamic method creation to access my_var\n",
    "    define_method :my_method do\n",
    "        \"#{my_var} in the method\"\n",
    "    end\n",
    "end\n",
    "\n",
    "puts MyClass.new.my_method"
   ]
  },
  {
   "cell_type": "markdown",
   "metadata": {
    "slideshow": {
     "slide_type": "fragment"
    }
   },
   "source": [
    "This seemingly \"scopeless\" process is called a **Flat Scope**"
   ]
  },
  {
   "cell_type": "markdown",
   "metadata": {
    "slideshow": {
     "slide_type": "slide"
    }
   },
   "source": [
    "# Closures: Blocks, Procs, & Lambdas"
   ]
  },
  {
   "cell_type": "markdown",
   "metadata": {
    "slideshow": {
     "slide_type": "fragment"
    }
   },
   "source": [
    "Most things in Ruby are objects. Blocks are not. To pass them around, you use the **&** operator"
   ]
  },
  {
   "cell_type": "code",
   "execution_count": 20,
   "metadata": {
    "collapsed": true,
    "slideshow": {
     "slide_type": "fragment"
    }
   },
   "outputs": [],
   "source": [
    "%%capture\n",
    "%%ruby\n",
    "\n",
    "def my_method(greeting)\n",
    "    \"#{greeting}, #{yield}!\"\n",
    "end\n",
    "\n",
    "my_proc = proc { \"Bill\" }\n",
    "puts my_method(\"Hello\", &my_proc)"
   ]
  },
  {
   "cell_type": "markdown",
   "metadata": {
    "slideshow": {
     "slide_type": "slide"
    }
   },
   "source": [
    "# Procs vs. Lambdas"
   ]
  },
  {
   "cell_type": "markdown",
   "metadata": {
    "slideshow": {
     "slide_type": "fragment"
    }
   },
   "source": [
    "Any guesses?"
   ]
  },
  {
   "cell_type": "markdown",
   "metadata": {
    "slideshow": {
     "slide_type": "fragment"
    }
   },
   "source": [
    "2 main differences:\n",
    "\n",
    "1. Lambdas throw an ArgumentError if argument number doesn't match. Procs do not.\n",
    "2. Lambdas return in a local scope, whereas Procs return from the scope in which they were called"
   ]
  },
  {
   "cell_type": "markdown",
   "metadata": {
    "slideshow": {
     "slide_type": "fragment"
    }
   },
   "source": [
    "Let's do an example"
   ]
  },
  {
   "cell_type": "markdown",
   "metadata": {
    "slideshow": {
     "slide_type": "slide"
    }
   },
   "source": [
    "# Procs vs. Lambdas"
   ]
  },
  {
   "cell_type": "code",
   "execution_count": 22,
   "metadata": {
    "collapsed": true,
    "slideshow": {
     "slide_type": "fragment"
    }
   },
   "outputs": [],
   "source": [
    "%%capture\n",
    "%%ruby\n",
    "\n",
    "def lambda_example\n",
    "  l      = lambda {|x,y| return x * y }\n",
    "  result = l.call(2, 4) * 10\n",
    "  return result\n",
    "end\n",
    "\n",
    "puts lambda_example"
   ]
  },
  {
   "cell_type": "code",
   "execution_count": 24,
   "metadata": {
    "collapsed": true,
    "slideshow": {
     "slide_type": "fragment"
    }
   },
   "outputs": [],
   "source": [
    "%%capture\n",
    "%%ruby\n",
    "\n",
    "def proc_example\n",
    "    p      = proc {|x,y| return x*y }\n",
    "  result = p.call(2, 4) * 10\n",
    "  return result\n",
    "end\n",
    "\n",
    "puts proc_example"
   ]
  },
  {
   "cell_type": "markdown",
   "metadata": {
    "slideshow": {
     "slide_type": "slide"
    }
   },
   "source": [
    "# Closures"
   ]
  },
  {
   "cell_type": "markdown",
   "metadata": {
    "slideshow": {
     "slide_type": "fragment"
    }
   },
   "source": [
    "Scope usually works as expected, but once you know how to manipulate it - you can do powerful things."
   ]
  },
  {
   "cell_type": "markdown",
   "metadata": {
    "slideshow": {
     "slide_type": "slide"
    }
   },
   "source": [
    "# Evals"
   ]
  },
  {
   "cell_type": "markdown",
   "metadata": {
    "slideshow": {
     "slide_type": "fragment"
    }
   },
   "source": [
    "3 main types of evals:\n",
    "    \n",
    "1. Instance Eval\n",
    "2. Class Eval\n",
    "3. Eval"
   ]
  },
  {
   "cell_type": "markdown",
   "metadata": {
    "slideshow": {
     "slide_type": "slide"
    }
   },
   "source": [
    "# Instance Eval"
   ]
  },
  {
   "cell_type": "markdown",
   "metadata": {
    "slideshow": {
     "slide_type": "fragment"
    }
   },
   "source": [
    "Use this to bust open and possibly manipulate an object's internals"
   ]
  },
  {
   "cell_type": "code",
   "execution_count": 26,
   "metadata": {
    "collapsed": true,
    "slideshow": {
     "slide_type": "fragment"
    }
   },
   "outputs": [],
   "source": [
    "%%capture\n",
    "%%ruby\n",
    "\n",
    "class Book\n",
    "  def initialize\n",
    "    @v = 1  # => Private variable\n",
    "  end\n",
    "end\n",
    "\n",
    "obj = Book.new\n",
    "\n",
    "x = 2\n",
    "obj.instance_eval { @v = x }\n",
    "puts obj.instance_eval {@v}"
   ]
  },
  {
   "cell_type": "markdown",
   "metadata": {
    "slideshow": {
     "slide_type": "slide"
    }
   },
   "source": [
    "# Class Eval"
   ]
  },
  {
   "cell_type": "markdown",
   "metadata": {
    "slideshow": {
     "slide_type": "fragment"
    }
   },
   "source": [
    "Even with Open Classes and Dynamic Class creation, we couldn't update a class within another closure (like a method). We also couln't get into a class based on a variable - we had to use the constant.\n",
    "\n",
    "Until now."
   ]
  },
  {
   "cell_type": "code",
   "execution_count": 28,
   "metadata": {
    "collapsed": true,
    "slideshow": {
     "slide_type": "fragment"
    }
   },
   "outputs": [],
   "source": [
    "%%capture\n",
    "%%ruby\n",
    "\n",
    "def add_method_to(a_class)\n",
    "\n",
    "    a_class.class_eval do\n",
    "        def m; 'Hello!'; end\n",
    "    end\n",
    "end\n",
    "\n",
    "add_method_to(String)\n",
    "puts \"foo\".m"
   ]
  },
  {
   "cell_type": "markdown",
   "metadata": {
    "slideshow": {
     "slide_type": "fragment"
    }
   },
   "source": [
    "Difference between **class_eval** and **instance_eval**?\n",
    "\n",
    "instance_eval only changes self, while class_eval changes both self and the current class."
   ]
  },
  {
   "cell_type": "markdown",
   "metadata": {
    "slideshow": {
     "slide_type": "slide"
    }
   },
   "source": [
    "# Eval"
   ]
  },
  {
   "cell_type": "markdown",
   "metadata": {
    "slideshow": {
     "slide_type": "fragment"
    }
   },
   "source": [
    "This is different from **instance_eval** and **class_eval**. Eval is easy - it just accepts code and runs it."
   ]
  },
  {
   "cell_type": "code",
   "execution_count": 29,
   "metadata": {
    "collapsed": true,
    "slideshow": {
     "slide_type": "fragment"
    }
   },
   "outputs": [],
   "source": [
    "%%capture\n",
    "%%ruby\n",
    "\n",
    "array   = [10, 20]\n",
    "element = 30\n",
    "eval(\"array << element\")\n",
    "puts array"
   ]
  },
  {
   "cell_type": "markdown",
   "metadata": {
    "slideshow": {
     "slide_type": "fragment"
    }
   },
   "source": [
    "A deeper example"
   ]
  },
  {
   "cell_type": "code",
   "execution_count": 32,
   "metadata": {
    "collapsed": true,
    "slideshow": {
     "slide_type": "fragment"
    }
   },
   "outputs": [],
   "source": [
    "%%capture\n",
    "%%ruby\n",
    "\n",
    "klass = \"Book\"\n",
    "instance_var = \"title\"\n",
    "\n",
    "eval <<-CODE # This is just a multi-line string\n",
    "    class #{klass}\n",
    "        attr_accessor :#{instance_var}\n",
    "\n",
    "        def initialize(x)\n",
    "            self.#{instance_var} = x\n",
    "        end\n",
    "    end\n",
    "CODE\n",
    "\n",
    "b = Book.new(\"Moby Dick\")\n",
    "puts b.title"
   ]
  },
  {
   "cell_type": "markdown",
   "metadata": {
    "slideshow": {
     "slide_type": "slide"
    }
   },
   "source": [
    "# Eval: The Dark Side"
   ]
  },
  {
   "cell_type": "markdown",
   "metadata": {
    "slideshow": {
     "slide_type": "fragment"
    }
   },
   "source": [
    "You write a program that allows you to test all the Array methods"
   ]
  },
  {
   "cell_type": "code",
   "execution_count": 34,
   "metadata": {
    "collapsed": true,
    "slideshow": {
     "slide_type": "fragment"
    }
   },
   "outputs": [],
   "source": [
    "%%capture\n",
    "%%ruby\n",
    "\n",
    "def explore_array(method)\n",
    "    code = \"['a', 'b', 'c'].#{method}\"\n",
    "    puts \"Evaluating: #{code}\"\n",
    "    puts eval code\n",
    "end\n",
    "\n",
    "explore_array(\"find_index('c')\")\n",
    "\n",
    "# explore_array(\"object_id; Dir.glob('*')\")"
   ]
  },
  {
   "cell_type": "markdown",
   "metadata": {
    "slideshow": {
     "slide_type": "fragment"
    }
   },
   "source": [
    "No matter your stance on vaccinations, we can all agree that **code injection** is bad."
   ]
  },
  {
   "cell_type": "markdown",
   "metadata": {
    "slideshow": {
     "slide_type": "slide"
    }
   },
   "source": [
    "# Writing a Multi-Purpose Module"
   ]
  },
  {
   "cell_type": "code",
   "execution_count": 35,
   "metadata": {
    "collapsed": true,
    "slideshow": {
     "slide_type": "fragment"
    }
   },
   "outputs": [],
   "source": [
    "%%capture\n",
    "%%ruby\n",
    "\n",
    "module MyModule\n",
    "    \n",
    "    def self.included(base)\n",
    "        base.include(InstanceMethods)\n",
    "        base.extend(ClassMethods)\n",
    "    end\n",
    "    \n",
    "    module InstanceMethods\n",
    "        def instance_test\n",
    "            \"I'm an instance method!\" \n",
    "        end\n",
    "    end\n",
    "    \n",
    "    module ClassMethods\n",
    "        def class_test\n",
    "            \"I'm a class method!\" \n",
    "        end\n",
    "    end\n",
    "end\n",
    "\n",
    "class MyClass\n",
    "    include MyModule\n",
    "end\n",
    "\n",
    "puts MyClass.class_test         # Calling a Class Method\n",
    "puts MyClass.new.instance_test  # Calling an Instance Method"
   ]
  },
  {
   "cell_type": "markdown",
   "metadata": {
    "slideshow": {
     "slide_type": "slide"
    }
   },
   "source": [
    "# Thanks!\n",
    "\n",
    "[@thecodeboss](https://twitter.com/thecodeboss/)\n",
    "\n",
    "https://github.com/alkrauss48\n",
    "\n",
    "https://thesocietea.org"
   ]
  }
 ],
 "metadata": {
  "celltoolbar": "Slideshow",
  "kernelspec": {
   "display_name": "Python 3",
   "language": "python",
   "name": "python3"
  },
  "language_info": {
   "codemirror_mode": {
    "name": "ipython",
    "version": 3
   },
   "file_extension": ".py",
   "mimetype": "text/x-python",
   "name": "python",
   "nbconvert_exporter": "python",
   "pygments_lexer": "ipython3",
   "version": "3.5.2"
  }
 },
 "nbformat": 4,
 "nbformat_minor": 1
}
